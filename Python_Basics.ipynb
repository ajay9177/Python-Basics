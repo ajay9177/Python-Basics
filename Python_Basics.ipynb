{
  "nbformat": 4,
  "nbformat_minor": 0,
  "metadata": {
    "colab": {
      "provenance": []
    },
    "kernelspec": {
      "name": "python3",
      "display_name": "Python 3"
    },
    "language_info": {
      "name": "python"
    }
  },
  "cells": [
    {
      "cell_type": "code",
      "execution_count": null,
      "metadata": {
        "id": "NplD1nyP4wFf"
      },
      "outputs": [],
      "source": [
        "# Python Intro\n",
        "# Strings\n",
        "# Lists,Tuples and Dictionaries\n",
        "# Conditionals\n",
        "# Loops\n",
        "# Exception Handling\n",
        "# Files\n",
        "# Imports\n",
        "# Functions\n",
        "# Classes"
      ]
    },
    {
      "cell_type": "code",
      "source": [
        "#Python Intro - String\n",
        "# String usage in Python\n",
        "my_string = \"this is a string\"\n",
        "my_name = \"karan\"\n",
        "print(my_name)\n",
        "\n",
        "#String concat(Syntax: [start : stop] → includes start, excludes stop.)\n",
        "second_string = \"this is another \" + \"string\"\n",
        "print(second_string)\n",
        "\n",
        "#String slicing\n",
        "print(my_string[1:6])\n",
        "\n",
        "#String substitution\n",
        "my_string = \"I like %s and %s\" % (\"Security\",\"Coding\")\n",
        "print(my_string)\n",
        "\n",
        "#Substitution using templates(dictionary)\n",
        "print(\"%(lang)s is fun\"%{\"lang\":\"python\"})\n",
        "\n",
        "#Substitution using format function\n",
        "print(\"Python is a {0},{1}\".format(\"simple\", \"language\"))\n"
      ],
      "metadata": {
        "colab": {
          "base_uri": "https://localhost:8080/"
        },
        "id": "VLG_giSx7q2c",
        "outputId": "f59d6f58-8d7b-4d55-dc1e-340035c574b8"
      },
      "execution_count": 9,
      "outputs": [
        {
          "output_type": "stream",
          "name": "stdout",
          "text": [
            "karan\n",
            "this is another string\n",
            "his i\n",
            "I like Security and Coding\n",
            "python is fun\n",
            "Python is a simple,language\n"
          ]
        }
      ]
    },
    {
      "cell_type": "code",
      "source": [
        "# Python Intro - List, Tuples, Dicts\n",
        "# Lists can be created in two ways, Lists are mutable\n",
        "my_list = []\n",
        "my_list2 = list()\n",
        "\n",
        "alpha_list = [34,23,67,100,88,2]\n",
        "print(alpha_list)\n",
        "\n",
        "# Returns None as the alpha_list will be sorted in place instead of being assigned to sorted_list. The sort\n",
        "# function does not return any value\n",
        "\n",
        "sorted_list = alpha_list.sort()\n",
        "print(sorted_list)\n",
        "print(alpha_list)"
      ],
      "metadata": {
        "colab": {
          "base_uri": "https://localhost:8080/"
        },
        "id": "NC94anLo9xGV",
        "outputId": "f6fcf41d-7f52-4cbe-ce2a-abb8987d4a5f"
      },
      "execution_count": 12,
      "outputs": [
        {
          "output_type": "stream",
          "name": "stdout",
          "text": [
            "[34, 23, 67, 100, 88, 2]\n",
            "None\n",
            "[2, 23, 34, 67, 88, 100]\n"
          ]
        }
      ]
    },
    {
      "cell_type": "code",
      "source": [
        "# Tuples - Immutable list\n",
        "my_tuple = (1,2,3,4,5)\n",
        "print(my_tuple[0:3])\n",
        "\n",
        "abc_list = list(my_tuple)\n",
        "print(abc_list)\n",
        "\n",
        "#Dict - hash table with key:value pairs\n",
        "my_dict = {}\n",
        "another_dict = dict()\n",
        "other_dict = {\"one\":1,\"two\":2,\"three\":3}\n",
        "print(other_dict)\n",
        "\n",
        "# Print keys in dict\n",
        "print(other_dict.keys())\n",
        "\n",
        "#Check if a key exists in the dict\n",
        "print(\"two\" in other_dict)\n",
        "\n",
        "#Print value of a key\n",
        "print(other_dict[\"three\"])"
      ],
      "metadata": {
        "colab": {
          "base_uri": "https://localhost:8080/"
        },
        "id": "SU7dWGtR-k8T",
        "outputId": "150bd91b-fdee-4f51-b089-1fb94ed2598d"
      },
      "execution_count": 11,
      "outputs": [
        {
          "output_type": "stream",
          "name": "stdout",
          "text": [
            "(1, 2, 3)\n",
            "[1, 2, 3, 4, 5]\n",
            "{'one': 1, 'two': 2, 'three': 3}\n",
            "dict_keys(['one', 'two', 'three'])\n",
            "True\n",
            "3\n"
          ]
        }
      ]
    },
    {
      "cell_type": "code",
      "source": [
        "# Python Intro - Empty Checks on Lists, Tuple and Strings\n",
        "#Empty and None check on strings\n",
        "empty_list = []\n",
        "empty_tuple = ()\n",
        "empty_string = \"\"\n",
        "nothing = None\n",
        "if empty_list == []:\n",
        "  print(\"It's an empty list!\")\n",
        "if empty_tuple:\n",
        "  print(\"It's not an empty tuple!\")\n",
        "if not empty_string:\n",
        "  print(\"This is an empty string!\")\n",
        "if not nothing:\n",
        " print(\"Then it's nothing!\")"
      ],
      "metadata": {
        "colab": {
          "base_uri": "https://localhost:8080/"
        },
        "id": "QDYv8rN-_yKz",
        "outputId": "19848e90-8150-4776-b1da-870b984f46dd"
      },
      "execution_count": 13,
      "outputs": [
        {
          "output_type": "stream",
          "name": "stdout",
          "text": [
            "It's an empty list!\n",
            "This is an empty string!\n",
            "Then it's nothing!\n"
          ]
        }
      ]
    },
    {
      "cell_type": "code",
      "source": [
        "# Python Intro - Conditionals\n",
        "# Python cares about spaces, don't mix tabs and spaces, especially in if conditions\n",
        "var1 = 1\n",
        "var2 = 2\n",
        "if var1 < var2:\n",
        "  print(\"var 1 is less than var 2\")\n",
        "val3 = int(input(\"input var3:\"))\n",
        "if val3 < var2:\n",
        "  print(\"var 3 is less than var 2\")\n",
        "# Conditional operators are and, or, not\n",
        "if var1 == 1 and var2 == 2:\n",
        "  print(\"var1 is 1 and var2 is 2\")\n",
        "if var1 > 2:\n",
        "  print(\"var1 > 2\")\n",
        "elif var1 < 2:\n",
        "  print(\"var1 < 2\")\n",
        "else:\n",
        "  print(\"var1 == var2\")"
      ],
      "metadata": {
        "colab": {
          "base_uri": "https://localhost:8080/"
        },
        "id": "tCGQyQ8sAzmE",
        "outputId": "bb48b4dc-c36e-46da-962c-605eebd1028e"
      },
      "execution_count": 14,
      "outputs": [
        {
          "output_type": "stream",
          "name": "stdout",
          "text": [
            "var 1 is less than var 2\n",
            "input var3:6\n",
            "var1 is 1 and var2 is 2\n",
            "var1 < 2\n"
          ]
        }
      ]
    },
    {
      "cell_type": "code",
      "source": [
        "# Python Intro - Loops\n",
        "# for and while loops\n",
        "# range function creates a list that is n in length\n",
        "print(range(0,5))\n",
        "for number in range(5):\n",
        " print(number)\n",
        "if __name__ == \"__main__\":\n",
        "  print(\"within main\")\n",
        "# write main code here\n",
        "for key in other_dict.keys():\n",
        " print(key)\n",
        "while val3 > 0:\n",
        " print(key)\n",
        " val3 = val3 - 1"
      ],
      "metadata": {
        "colab": {
          "base_uri": "https://localhost:8080/"
        },
        "id": "n26YLPAjBion",
        "outputId": "cdcf5f61-31e5-4350-97ac-5bd6125ed2bf"
      },
      "execution_count": 15,
      "outputs": [
        {
          "output_type": "stream",
          "name": "stdout",
          "text": [
            "range(0, 5)\n",
            "0\n",
            "1\n",
            "2\n",
            "3\n",
            "4\n",
            "within main\n",
            "one\n",
            "two\n",
            "three\n",
            "three\n",
            "three\n",
            "three\n",
            "three\n",
            "three\n",
            "three\n"
          ]
        }
      ]
    },
    {
      "cell_type": "code",
      "source": [
        "# Python Intro - Exception Handling\n",
        "try:\n",
        "    1/0                          # This will raise a ZeroDivisionError\n",
        "except ZeroDivisionError:\n",
        "    print(\"cannot divide by zero\")   # Handling division by zero error\n",
        "\n",
        "my_dict = {\"a\": 1, \"b\": 2, \"c\": 3}   # Sample dictionary\n",
        "\n",
        "try:\n",
        "    value = my_dict[\"a\"]             # Accessing a valid key, no error\n",
        "except IndexError:\n",
        "    print(\"This index does not exist!\")   # Handles index errors\n",
        "except KeyError:\n",
        "    print(\"This key is not in the dictionary!\")  # Handles invalid dictionary keys\n",
        "except:\n",
        "    print(\"Some other error occurred!\")   # Handles any other unexpected error\n",
        "else:\n",
        "    print(\"No error occurred\")            # Executes if no exception occurred\n",
        "finally:\n",
        "    print(\"The finally statement has executed\")  # Always executes"
      ],
      "metadata": {
        "colab": {
          "base_uri": "https://localhost:8080/"
        },
        "id": "U5BOOgtVDCZ4",
        "outputId": "561ff33e-6272-45fa-fcc0-6f581364b767"
      },
      "execution_count": 16,
      "outputs": [
        {
          "output_type": "stream",
          "name": "stdout",
          "text": [
            "cannot divide by zero\n",
            "No error occurred\n",
            "The finally statement has executed\n"
          ]
        }
      ]
    },
    {
      "cell_type": "code",
      "source": [
        "# Python Intro - Files\n",
        "\n",
        "# File Handling\n",
        "# Default mode for file open is read only\n",
        "handle = open(\"test.txt\", \"r\")\n",
        "# read() reads the entire file\n",
        "data = handle.read()\n",
        "print(data)\n",
        "handle.close()\n",
        "\n",
        "# readline() will read line by line and readlines() will read all lines.\n",
        "# Use with keyword to open files. Creates a context manager to automatically close the file when processing is done.\n",
        "try:\n",
        "    with open(\"test.txt\") as file_handler:\n",
        "        for line in file_handler:       # Iterates line by line\n",
        "            print(line)\n",
        "except IOError:\n",
        "    print(\"An IOError occurred\")"
      ],
      "metadata": {
        "colab": {
          "base_uri": "https://localhost:8080/"
        },
        "id": "5gX55n3kDFd-",
        "outputId": "6b8cb0df-8335-4442-f5d7-a62dc8400c1e"
      },
      "execution_count": 19,
      "outputs": [
        {
          "output_type": "stream",
          "name": "stdout",
          "text": [
            "Hello there\n",
            "Python Basics\n",
            "Hello there\n",
            "\n",
            "Python Basics\n"
          ]
        }
      ]
    },
    {
      "cell_type": "code",
      "source": [
        "# Python Intro - Imports\n",
        "# Python comes with lots of pre-made code baked in.\n",
        "# These pieces of code are known as modules and packages.\n",
        "# A module is a single importable Python file whereas a package is made up of two or more modules.\n",
        "# A package can be imported the same way a module is.\n",
        "\n",
        "import math\n",
        "print(math.sqrt(4))   # 2.0\n",
        "\n",
        "from math import sqrt\n",
        "print(sqrt(16))       # 4.0"
      ],
      "metadata": {
        "colab": {
          "base_uri": "https://localhost:8080/"
        },
        "id": "GauZwGL_DeG3",
        "outputId": "8bf511ee-bb13-4ba6-d166-84a5fab46d5b"
      },
      "execution_count": 20,
      "outputs": [
        {
          "output_type": "stream",
          "name": "stdout",
          "text": [
            "2.0\n",
            "4.0\n"
          ]
        }
      ]
    },
    {
      "cell_type": "code",
      "source": [
        "# Python Intro - Functions\n",
        "\n",
        "def func():\n",
        "    print(\"Inside func\")          # Simple function\n",
        "\n",
        "def add(a, b):\n",
        "    return a + b                  # Adds two numbers\n",
        "\n",
        "print(add(1, 2))                  # Output: 3\n",
        "\n",
        "# For any number of args or keywords, use *args and **kwargs\n",
        "def many(*args, **kwargs):\n",
        "    # args turns into a tuple\n",
        "    print(args)\n",
        "    # kwargs turns into a dict\n",
        "    print(kwargs)\n",
        "\n",
        "many(1, 2, 3, name=\"Mike\", job=\"programmer\")\n",
        "# Output:\n",
        "# (1, 2, 3)\n",
        "# {'name': 'Mike', 'job': 'programmer'}"
      ],
      "metadata": {
        "colab": {
          "base_uri": "https://localhost:8080/"
        },
        "id": "xpCG18KoDtSn",
        "outputId": "57800f3e-004f-479d-bb00-a8b6372b4cb5"
      },
      "execution_count": 21,
      "outputs": [
        {
          "output_type": "stream",
          "name": "stdout",
          "text": [
            "3\n",
            "(1, 2, 3)\n",
            "{'name': 'Mike', 'job': 'programmer'}\n"
          ]
        }
      ]
    },
    {
      "cell_type": "code",
      "source": [
        "# Python Intro - Classes\n",
        "\n",
        "# Class definition\n",
        "class Vehicle(object):\n",
        "    def __init__(self, color, doors):\n",
        "        self.color = color        # Instance variable for color\n",
        "        self.doors = doors        # Instance variable for doors\n",
        "\n",
        "    def brake(self):\n",
        "        return \"Braking\"\n",
        "\n",
        "    def drive(self):\n",
        "        return \"Driving\""
      ],
      "metadata": {
        "id": "77t7FHtHD7ru"
      },
      "execution_count": 23,
      "outputs": []
    },
    {
      "cell_type": "code",
      "source": [
        "# Python Intro - (Sub) Classes\n",
        "\n",
        "# Subclass definition from Vehicle\n",
        "class Vehiclesub(Vehicle):\n",
        "    def brake(self):\n",
        "        return \"this message is from a subclass\"\n",
        "\n",
        "if __name__ == \"__main__\":\n",
        "    print(\"within main\")\n",
        "    # write main code here\n",
        "    car = Vehiclesub(\"blue color\", \"black door\")\n",
        "    print(car.brake())"
      ],
      "metadata": {
        "colab": {
          "base_uri": "https://localhost:8080/"
        },
        "id": "RkMZqY4eEGJO",
        "outputId": "f562c5b8-b046-4f4c-f80c-f1048bb4e796"
      },
      "execution_count": 24,
      "outputs": [
        {
          "output_type": "stream",
          "name": "stdout",
          "text": [
            "within main\n",
            "this message is from a subclass\n"
          ]
        }
      ]
    }
  ]
}